{
 "cells": [
  {
   "cell_type": "markdown",
   "metadata": {},
   "source": [
    "## Data Processing"
   ]
  },
  {
   "cell_type": "code",
   "execution_count": 8,
   "metadata": {},
   "outputs": [],
   "source": [
    "# Imports\n",
    "import pandas as pd"
   ]
  },
  {
   "cell_type": "markdown",
   "metadata": {},
   "source": [
    "## Load and prep the data"
   ]
  },
  {
   "cell_type": "code",
   "execution_count": 9,
   "metadata": {},
   "outputs": [
    {
     "name": "stdout",
     "output_type": "stream",
     "text": [
      "             Emotion                                        Description  \\\n",
      "0           Abbiocco  Abbiocco is an Italian term for the drowsy fee...   \n",
      "1  Abhimaan (अभिमान)  A Marathi term for a specific kind of pride th...   \n",
      "2            Abhiman  A complex Indian emotion combining hurt pride,...   \n",
      "3             Ablaze  Ablaze describes the state of being consumed b...   \n",
      "4             Abrazo  Abrazo represents the emotional warmth and sec...   \n",
      "\n",
      "   Example sentences  Example situations Language  Comments  \n",
      "0                NaN                 NaN  Italian       NaN  \n",
      "1                NaN                 NaN  Marathi       NaN  \n",
      "2                NaN                 NaN   Indian       NaN  \n",
      "3                NaN                 NaN  English       NaN  \n",
      "4                NaN                 NaN  Spanish       NaN  \n"
     ]
    }
   ],
   "source": [
    "# Read in file\n",
    "df = pd.read_excel('raw/emotions_dataset.xlsx')\n",
    "\n",
    "print(df.head())"
   ]
  },
  {
   "cell_type": "code",
   "execution_count": 11,
   "metadata": {},
   "outputs": [
    {
     "name": "stdout",
     "output_type": "stream",
     "text": [
      "             Emotion                                        Description  \\\n",
      "0           Abbiocco  Abbiocco is an Italian term for the drowsy fee...   \n",
      "1  Abhimaan (अभिमान)  A Marathi term for a specific kind of pride th...   \n",
      "2            Abhiman  A complex Indian emotion combining hurt pride,...   \n",
      "3             Ablaze  Ablaze describes the state of being consumed b...   \n",
      "4             Abrazo  Abrazo represents the emotional warmth and sec...   \n",
      "\n",
      "  Language                                   Full_description  \n",
      "0  Italian  Abbiocco: Abbiocco is an Italian term for the ...  \n",
      "1  Marathi  Abhimaan (अभिमान): A Marathi term for a specif...  \n",
      "2   Indian  Abhiman: A complex Indian emotion combining hu...  \n",
      "3  English  Ablaze: Ablaze describes the state of being co...  \n",
      "4  Spanish  Abrazo: Abrazo represents the emotional warmth...  \n"
     ]
    }
   ],
   "source": [
    "# Clean dataset (with ALL content)\n",
    "df_clean = df[['Emotion', 'Description', 'Language']].copy()\n",
    "\n",
    "# Clean dataset (with only LLM generated content)\n",
    "# df_clean = df[['Emotion', 'Description', 'Checked', 'Language']].copy()\n",
    "# df_clean = df_clean[df_clean['Checked'] == 'y']\n",
    "# df_clean = df_clean.drop('Checked', axis=1)\n",
    "\n",
    "# Add column combining first 2 columns together\n",
    "df_clean['Full_description'] = df_clean['Emotion'] + \": \" + df_clean['Description']\n",
    "\n",
    "print(df_clean.head())"
   ]
  },
  {
   "cell_type": "markdown",
   "metadata": {},
   "source": [
    "## Create the embeddings"
   ]
  },
  {
   "cell_type": "code",
   "execution_count": 12,
   "metadata": {},
   "outputs": [],
   "source": [
    "import os\n",
    "from openai import OpenAI\n",
    "from data_utils import get_embedding\n",
    "\n",
    "api_key = os.environ.get('OPENAI_API_KEY')\n",
    "client = OpenAI(api_key=api_key)\n",
    "\n",
    "# Create embeddings\n",
    "embeddings = [get_embedding(description, client) for description in df_clean['Full_description'].to_list()]\n",
    "\n",
    "# Store embeddings in df to ensure original emotion can be retrieved via search\n",
    "df_results = df_clean.copy()\n",
    "df_results['Embedding'] = embeddings"
   ]
  },
  {
   "cell_type": "code",
   "execution_count": 13,
   "metadata": {},
   "outputs": [
    {
     "name": "stdout",
     "output_type": "stream",
     "text": [
      "0      [-0.05360228568315506, -0.006268118973821402, ...\n",
      "1      [-0.04037681967020035, 0.004841753281652927, -...\n",
      "2      [-0.03313937783241272, -0.01248866319656372, -...\n",
      "3      [-0.007300569210201502, 0.01511992234736681, -...\n",
      "4      [-0.031230805441737175, 0.00743915606290102, -...\n",
      "                             ...                        \n",
      "479    [-0.05270390212535858, -0.01653508096933365, -...\n",
      "480    [-0.024971861392259598, -0.005448988173156977,...\n",
      "481    [-0.002951705828309059, -0.027292585000395775,...\n",
      "482    [-0.009862719103693962, -0.007757913786917925,...\n",
      "483    [0.009859306737780571, 0.017048237845301628, -...\n",
      "Name: Embedding, Length: 484, dtype: object\n"
     ]
    }
   ],
   "source": [
    "print(df_results['Embedding'])"
   ]
  },
  {
   "cell_type": "markdown",
   "metadata": {},
   "source": [
    "## Store the embeddings"
   ]
  },
  {
   "cell_type": "code",
   "execution_count": 14,
   "metadata": {},
   "outputs": [],
   "source": [
    "#Export to csv\n",
    "\n",
    "filename = \"embeddings_2025-06-25_3\"\n",
    "\n",
    "df_results.to_csv(path_or_buf=\"./processed/\" + filename + \".csv\")\n",
    "df_results.to_pickle('./processed/' + filename + '.pkl')"
   ]
  }
 ],
 "metadata": {
  "kernelspec": {
   "display_name": ".venv",
   "language": "python",
   "name": "python3"
  },
  "language_info": {
   "codemirror_mode": {
    "name": "ipython",
    "version": 3
   },
   "file_extension": ".py",
   "mimetype": "text/x-python",
   "name": "python",
   "nbconvert_exporter": "python",
   "pygments_lexer": "ipython3",
   "version": "3.11.0"
  }
 },
 "nbformat": 4,
 "nbformat_minor": 2
}
