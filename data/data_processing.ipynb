{
 "cells": [
  {
   "cell_type": "markdown",
   "metadata": {},
   "source": [
    "## Data Processing"
   ]
  },
  {
   "cell_type": "code",
   "execution_count": null,
   "metadata": {},
   "outputs": [],
   "source": [
    "# Imports\n",
    "import pandas as pd"
   ]
  },
  {
   "cell_type": "markdown",
   "metadata": {},
   "source": [
    "## Load and prep the data"
   ]
  },
  {
   "cell_type": "code",
   "execution_count": null,
   "metadata": {},
   "outputs": [],
   "source": [
    "# Read in file\n",
    "df = pd.read_excel('raw/full_dictionary.xlsx')\n",
    "\n",
    "print(df.head())"
   ]
  },
  {
   "cell_type": "code",
   "execution_count": null,
   "metadata": {},
   "outputs": [],
   "source": [
    "# Clean dataset (with ALL content)\n",
    "# df_clean = df[['Emotion', 'Description']].copy()\n",
    "\n",
    "# Clean dataset (with only LLM generated content)\n",
    "df_clean = df[['Emotion', 'Description', 'Checked', 'Language']].copy()\n",
    "df_clean = df_clean[df_clean['Checked'] == 'y']\n",
    "df_clean = df_clean.drop('Checked', axis=1)\n",
    "\n",
    "# Add column combining first 2 columns together\n",
    "df_clean['Full_description'] = df_clean['Emotion'] + \": \" + df_clean['Description']\n",
    "\n",
    "print(df_clean.head())"
   ]
  },
  {
   "cell_type": "markdown",
   "metadata": {},
   "source": [
    "## Create the embeddings"
   ]
  },
  {
   "cell_type": "code",
   "execution_count": null,
   "metadata": {},
   "outputs": [],
   "source": [
    "import os\n",
    "from openai import OpenAI\n",
    "from data_utils import get_embedding\n",
    "\n",
    "api_key = os.environ.get('OPENAI_API_KEY')\n",
    "client = OpenAI(api_key=api_key)\n",
    "\n",
    "# Create embeddings\n",
    "embeddings = [get_embedding(description, client) for description in df_clean['Full_description'].to_list()]\n",
    "\n",
    "# Store embeddings in df to ensure original emotion can be retrieved via search\n",
    "df_results = df_clean.copy()\n",
    "df_results['Embedding'] = embeddings"
   ]
  },
  {
   "cell_type": "code",
   "execution_count": null,
   "metadata": {},
   "outputs": [],
   "source": [
    "# Oops, need to take the actual embedding out of the object for each row\n",
    "# df_results['Embedding_raw'] = [df_results['Embedding'][i].data[0].embedding for i in range(0,len(df_results['Embedding']))]\n",
    "\n",
    "print(df_results['Embedding'])"
   ]
  },
  {
   "cell_type": "markdown",
   "metadata": {},
   "source": [
    "## Store the embeddings"
   ]
  },
  {
   "cell_type": "code",
   "execution_count": null,
   "metadata": {},
   "outputs": [],
   "source": [
    "#Export to csv\n",
    "\n",
    "filename = \"embeddings\"\n",
    "\n",
    "df_results.to_csv(path_or_buf=\"./processed/\" + filename + \".csv\")\n",
    "df_results.to_pickle('./processed/' + filename + '.pkl')"
   ]
  }
 ],
 "metadata": {
  "kernelspec": {
   "display_name": ".venv",
   "language": "python",
   "name": "python3"
  },
  "language_info": {
   "codemirror_mode": {
    "name": "ipython",
    "version": 3
   },
   "file_extension": ".py",
   "mimetype": "text/x-python",
   "name": "python",
   "nbconvert_exporter": "python",
   "pygments_lexer": "ipython3",
   "version": "3.11.0"
  }
 },
 "nbformat": 4,
 "nbformat_minor": 2
}
